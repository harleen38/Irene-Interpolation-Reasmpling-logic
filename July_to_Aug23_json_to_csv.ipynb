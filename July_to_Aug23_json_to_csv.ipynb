{
 "cells": [
  {
   "cell_type": "code",
   "execution_count": 1,
   "metadata": {},
   "outputs": [],
   "source": [
    "import json\n",
    "import pandas as pd"
   ]
  },
  {
   "cell_type": "code",
   "execution_count": 9,
   "metadata": {},
   "outputs": [],
   "source": [
    "output_path = \"/Users/harleenkaur/Documents/phyFai_thresholds_decision/UPS_download_interpolation/July_to_Aug23_csvs/\"\n",
    "device_id = 'b173E8'"
   ]
  },
  {
   "cell_type": "code",
   "execution_count": 7,
   "metadata": {},
   "outputs": [],
   "source": [
    "#mention the json path where your file is present\n",
    "json_path = \"/Users/harleenkaur/Documents/phyFai_thresholds_decision/UPS_download_interpolation/July_to_Aug23_sample_file/b173E8_1758468152670.json\"\n",
    "\n",
    "with open(json_path, 'r') as file:\n",
    "        \n",
    "        data = json.load(file)\n",
    "\n",
    "        df_all = pd.DataFrame({})\n",
    "        for str in data:\n",
    "            fields = json.loads(str)\n",
    "            df = pd.DataFrame([fields])\n",
    "            df_all = pd.concat([df, df_all])"
   ]
  },
  {
   "cell_type": "code",
   "execution_count": 10,
   "metadata": {},
   "outputs": [],
   "source": [
    "df_all.to_csv(output_path + device_id + \".csv\")"
   ]
  }
 ],
 "metadata": {
  "kernelspec": {
   "display_name": "base",
   "language": "python",
   "name": "python3"
  },
  "language_info": {
   "codemirror_mode": {
    "name": "ipython",
    "version": 3
   },
   "file_extension": ".py",
   "mimetype": "text/x-python",
   "name": "python",
   "nbconvert_exporter": "python",
   "pygments_lexer": "ipython3",
   "version": "3.12.2"
  }
 },
 "nbformat": 4,
 "nbformat_minor": 2
}
