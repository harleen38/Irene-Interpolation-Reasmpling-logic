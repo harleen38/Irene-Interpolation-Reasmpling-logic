{
 "cells": [
  {
   "cell_type": "code",
   "execution_count": null,
   "metadata": {},
   "outputs": [],
   "source": [
    "import json\n",
    "import pandas as pd"
   ]
  },
  {
   "cell_type": "code",
   "execution_count": null,
   "metadata": {},
   "outputs": [],
   "source": [
    "\n",
    "json_path = \"UPS_download_interpolation/July_to_Aug23_sample_file/b1CC7C_1758429801299.json\"\n",
    "\n",
    "\n",
    "with open(json_path, 'r') as file:\n",
    "        \n",
    "        data = json.load(file)\n",
    "\n",
    "        df_all = pd.DataFrame({})\n",
    "        for str in data:\n",
    "            fields = json.loads(str)\n",
    "            df = pd.DataFrame([fields])\n",
    "            df_all = pd.concat([df, df_all])"
   ]
  }
 ],
 "metadata": {
  "language_info": {
   "name": "python"
  }
 },
 "nbformat": 4,
 "nbformat_minor": 2
}
