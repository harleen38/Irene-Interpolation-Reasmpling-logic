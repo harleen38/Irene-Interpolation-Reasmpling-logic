{
 "cells": [
  {
   "cell_type": "markdown",
   "metadata": {},
   "source": [
    "The data downloaded using the script \"July_to_Aug23_data_download.py\" gives non-uniformly resampled data\n",
    "\n",
    "For this we first need to linearly interpolate to 8s \n",
    "\n",
    "Below given is the procedure on how to accomplish the same"
   ]
  },
  {
   "cell_type": "code",
   "execution_count": 1,
   "metadata": {},
   "outputs": [],
   "source": [
    "import os\n",
    "import pandas as pd"
   ]
  },
  {
   "cell_type": "code",
   "execution_count": 2,
   "metadata": {},
   "outputs": [],
   "source": [
    "# specify the input path\n",
    "ip_path = \"/Users/harleenkaur/Documents/phyFai_thresholds_decision/UPS_download_interpolation/July_to_Aug23_csvs/\"\n",
    "# specify the path where you want to download\n",
    "out_path = \"/Users/harleenkaur/Documents/phyFai_thresholds_decision/UPS_download_interpolation/July_to_Aug23_interpolated_data/\"\n",
    "files = ['b173E8.csv']"
   ]
  },
  {
   "cell_type": "code",
   "execution_count": 53,
   "metadata": {},
   "outputs": [],
   "source": [
    "def read_and_filter_data(file_path, diagnostic_key):\n",
    "    df = pd.read_csv(file_path)\n",
    "    filtered_df = df[df['diagnostic'] == diagnostic_key]\n",
    "    return filtered_df\n",
    "\n",
    "\n",
    "def process_and_interpolate(df, new_col_name, scale_factor=1, freq='8s'):\n",
    "    \n",
    "    \n",
    "    df['dateTime'] = pd.to_datetime(df['dateTime'], utc=True)\n",
    "    df = df.sort_values('dateTime')\n",
    "    df = df[['dateTime', 'data']]\n",
    "    df.columns = ['dateTime', new_col_name]\n",
    "\n",
    "    if scale_factor != 1:\n",
    "        df[new_col_name] = df[new_col_name] / scale_factor\n",
    "\n",
    "    df.set_index('dateTime', inplace=True)\n",
    "    df = df[~df.index.duplicated(keep='first')]\n",
    "    full_index = df.index.union(pd.date_range(start=df.index[0], end=df.index[-1], freq=freq))\n",
    "    df_interpolated = df.reindex(full_index.sort_values()).interpolate('linear')\n",
    "    df_interpolated = df_interpolated.loc[pd.date_range(start=df.index[0], end=df.index[-1], freq=freq)]\n",
    "    df_interpolated = df_interpolated.reset_index().rename(columns={'index': 'datetime_utc'})\n",
    "\n",
    "    return df_interpolated"
   ]
  },
  {
   "cell_type": "code",
   "execution_count": 50,
   "metadata": {},
   "outputs": [
    {
     "name": "stdout",
     "output_type": "stream",
     "text": [
      "DatetimeIndex(['2025-08-05 13:57:26.927000+00:00',\n",
      "               '2025-08-05 13:57:29.927000+00:00',\n",
      "               '2025-08-05 13:57:34.927000+00:00',\n",
      "               '2025-08-05 13:57:42.927000+00:00',\n",
      "               '2025-08-05 13:57:50.927000+00:00',\n",
      "               '2025-08-05 13:57:58.927000+00:00',\n",
      "               '2025-08-05 13:58:01.023000+00:00',\n",
      "               '2025-08-05 13:58:06.530000+00:00',\n",
      "               '2025-08-05 13:58:06.927000+00:00',\n",
      "               '2025-08-05 13:58:13.040000+00:00',\n",
      "               ...\n",
      "               '2025-08-23 15:35:50.927000+00:00',\n",
      "               '2025-08-23 15:35:53.120000+00:00',\n",
      "               '2025-08-23 15:35:58.927000+00:00',\n",
      "               '2025-08-23 15:36:03.137000+00:00',\n",
      "               '2025-08-23 15:36:06.927000+00:00',\n",
      "               '2025-08-23 15:36:14.927000+00:00',\n",
      "               '2025-08-23 15:36:22.927000+00:00',\n",
      "               '2025-08-23 15:36:30.927000+00:00',\n",
      "               '2025-08-23 15:36:38.927000+00:00',\n",
      "               '2025-08-23 15:36:42.167000+00:00'],\n",
      "              dtype='datetime64[ns, UTC]', length=207963, freq=None)\n",
      "DatetimeIndex(['2025-08-04 22:00:03.200000+00:00',\n",
      "               '2025-08-04 22:00:03.407000+00:00',\n",
      "               '2025-08-04 22:00:03.547000+00:00',\n",
      "               '2025-08-04 22:00:03.607000+00:00',\n",
      "               '2025-08-04 22:00:04.457000+00:00',\n",
      "               '2025-08-04 22:00:04.647000+00:00',\n",
      "               '2025-08-04 22:00:09.630000+00:00',\n",
      "               '2025-08-04 22:00:11.200000+00:00',\n",
      "               '2025-08-04 22:00:19.200000+00:00',\n",
      "               '2025-08-04 22:00:27.200000+00:00',\n",
      "               ...\n",
      "               '2025-08-23 15:33:16.097000+00:00',\n",
      "               '2025-08-23 15:33:19.707000+00:00',\n",
      "               '2025-08-23 15:33:19.810000+00:00',\n",
      "               '2025-08-23 15:33:19.907000+00:00',\n",
      "               '2025-08-23 15:33:20.077000+00:00',\n",
      "               '2025-08-23 15:33:20.207000+00:00',\n",
      "               '2025-08-23 15:33:21.320000+00:00',\n",
      "               '2025-08-23 15:33:22.827000+00:00',\n",
      "               '2025-08-23 15:33:23.200000+00:00',\n",
      "               '2025-08-23 15:33:26.083000+00:00'],\n",
      "              dtype='datetime64[ns, UTC]', length=211065, freq=None)\n",
      "DatetimeIndex(['2025-07-11 16:13:02.860000+00:00',\n",
      "               '2025-07-11 16:13:10.860000+00:00',\n",
      "               '2025-07-11 16:13:18.860000+00:00',\n",
      "               '2025-07-11 16:13:26.860000+00:00',\n",
      "               '2025-07-11 16:13:34.860000+00:00',\n",
      "               '2025-07-11 16:13:41.480000+00:00',\n",
      "               '2025-07-11 16:13:42.860000+00:00',\n",
      "               '2025-07-11 16:13:50.860000+00:00',\n",
      "               '2025-07-11 16:13:58.860000+00:00',\n",
      "               '2025-07-11 16:14:01.813000+00:00',\n",
      "               ...\n",
      "               '2025-08-23 15:35:34.860000+00:00',\n",
      "               '2025-08-23 15:35:42.860000+00:00',\n",
      "               '2025-08-23 15:35:50.860000+00:00',\n",
      "               '2025-08-23 15:35:58.860000+00:00',\n",
      "               '2025-08-23 15:36:06.860000+00:00',\n",
      "               '2025-08-23 15:36:14.860000+00:00',\n",
      "               '2025-08-23 15:36:22.860000+00:00',\n",
      "               '2025-08-23 15:36:30.860000+00:00',\n",
      "               '2025-08-23 15:36:38.860000+00:00',\n",
      "               '2025-08-23 15:36:43.913000+00:00'],\n",
      "              dtype='datetime64[ns, UTC]', length=468439, freq=None)\n"
     ]
    }
   ],
   "source": [
    "for file_name in files:\n",
    "    file_path = os.path.join(ip_path, file_name)\n",
    "\n",
    "    df_ect = read_and_filter_data(file_path, 'DiagnosticEngineCoolantTemperatureId')\n",
    "    df_oilp = read_and_filter_data(file_path, 'DiagnosticOilPressureId')\n",
    "    df_rpm = read_and_filter_data(file_path, 'DiagnosticEngineSpeedId')\n",
    "\n",
    "    if not df_oilp.empty and not df_rpm.empty and not df_ect.empty:\n",
    "        df_oilp_interpolated = process_and_interpolate(df_oilp, 'OilP', scale_factor=1000)\n",
    "        df_rpm_interpolated = process_and_interpolate(df_rpm, 'ENGINE RPM')\n",
    "        df_ect_interpolated = process_and_interpolate(df_ect, 'ECT')\n",
    "\n",
    "        # Now, df_ect_interpolated, df_oilp_interpolated, df_rpm_interpolated\n",
    "        # are ready for further processing or merging\n"
   ]
  }
 ],
 "metadata": {
  "kernelspec": {
   "display_name": "base",
   "language": "python",
   "name": "python3"
  },
  "language_info": {
   "codemirror_mode": {
    "name": "ipython",
    "version": 3
   },
   "file_extension": ".py",
   "mimetype": "text/x-python",
   "name": "python",
   "nbconvert_exporter": "python",
   "pygments_lexer": "ipython3",
   "version": "3.12.2"
  }
 },
 "nbformat": 4,
 "nbformat_minor": 2
}
